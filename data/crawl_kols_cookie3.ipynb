{
 "cells": [
  {
   "cell_type": "code",
   "execution_count": 2,
   "metadata": {},
   "outputs": [
    {
     "name": "stdout",
     "output_type": "stream",
     "text": [
      "Đã lưu 200 mục dữ liệu vào file 'kols_cookie3_test.json'.\n"
     ]
    }
   ],
   "source": [
    "import requests\n",
    "import json\n",
    "\n",
    "# URL cơ bản của API\n",
    "base_url = \"https://affiliate.cookie3.com/api/trpc/leaderboard.getKolsLeaderboard\"\n",
    "\n",
    "# Tham số mặc định cho yêu cầu\n",
    "params = {\n",
    "    \"batch\": 1,\n",
    "    \"input\": json.dumps({\"0\": {\"json\": {\"page\": 1, \"limit\": 200, \"web3Kols\": True}}})\n",
    "}\n",
    "\n",
    "# Danh sách để lưu trữ tất cả dữ liệu\n",
    "all_data = []\n",
    "\n",
    "# Biến kiểm soát trang hiện tại\n",
    "current_page = 1\n",
    "\n",
    "while True:\n",
    "    # Cập nhật số trang hiện tại\n",
    "    params['input'] = json.dumps({\"0\": {\"json\": {\"page\": current_page, \"limit\": 200, \"web3Kols\": True}}})\n",
    "    \n",
    "    # Gửi yêu cầu GET tới API\n",
    "    response = requests.get(base_url, params=params)\n",
    "    \n",
    "    if response.status_code == 200:\n",
    "        # Chuyển đổi dữ liệu JSON từ response\n",
    "        data = response.json()\n",
    "        \n",
    "        # Kiểm tra xem data có chứa \"result\" không và lấy dữ liệu\n",
    "        if isinstance(data, list) and not data:\n",
    "            break\n",
    "        \n",
    "        # Truy cập phần tử đầu tiên của danh sách trả về\n",
    "        first_item = data[0]\n",
    "        \n",
    "        # Kiểm tra nếu không có dữ liệu nữa (danh sách elements rỗng)\n",
    "        elements = first_item['result']['data']['json']['elements']\n",
    "        if not elements:\n",
    "            break\n",
    "        \n",
    "        # Thêm toàn bộ dữ liệu trang này vào danh sách tổng\n",
    "        all_data.extend(elements)\n",
    "        \n",
    "        # Chuyển đến trang tiếp theo\n",
    "        current_page += 1\n",
    "    else:\n",
    "        print(f\"Yêu cầu thất bại với mã lỗi: {response.status_code}\")\n",
    "        break\n",
    "\n",
    "# Ghi toàn bộ dữ liệu vào file JSON\n",
    "with open('kols_cookie3_test.json', 'w', encoding='utf-8') as f:\n",
    "    json.dump(all_data, f, ensure_ascii=False, indent=4)\n",
    "\n",
    "print(f\"Đã lưu {len(all_data)} mục dữ liệu vào file 'kols_cookie3_test.json'.\")\n"
   ]
  },
  {
   "cell_type": "code",
   "execution_count": 2,
   "metadata": {},
   "outputs": [],
   "source": [
    "data = []\n",
    "for i in all_data:\n",
    "    data.append(i[\"userName\"])"
   ]
  },
  {
   "cell_type": "code",
   "execution_count": 3,
   "metadata": {},
   "outputs": [
    {
     "name": "stdout",
     "output_type": "stream",
     "text": [
      "Đã lưu 200 mục dữ liệu vào file 'user_name_cookie3_test.json'.\n"
     ]
    }
   ],
   "source": [
    "with open('user_name_cookie3_test.json', 'w', encoding='utf-8') as f:\n",
    "    json.dump(data, f, ensure_ascii=False, indent=4)\n",
    "\n",
    "print(f\"Đã lưu {len(data)} mục dữ liệu vào file 'user_name_cookie3_test.json'.\")"
   ]
  },
  {
   "cell_type": "code",
   "execution_count": null,
   "metadata": {},
   "outputs": [],
   "source": []
  },
  {
   "cell_type": "code",
   "execution_count": 4,
   "metadata": {},
   "outputs": [],
   "source": [
    "total_followers = 0\n",
    "for document in all_data:\n",
    "    total_followers += document.get(\"followers\", 0)\n",
    "average_followers = total_followers / len(all_data)\n"
   ]
  },
  {
   "cell_type": "code",
   "execution_count": 5,
   "metadata": {},
   "outputs": [
    {
     "name": "stdout",
     "output_type": "stream",
     "text": [
      "200\n",
      "36510493\n",
      "182552.465\n"
     ]
    }
   ],
   "source": [
    "print(len(all_data))\n",
    "print(total_followers)\n",
    "print(average_followers)"
   ]
  }
 ],
 "metadata": {
  "kernelspec": {
   "display_name": "Python 3",
   "language": "python",
   "name": "python3"
  },
  "language_info": {
   "codemirror_mode": {
    "name": "ipython",
    "version": 3
   },
   "file_extension": ".py",
   "mimetype": "text/x-python",
   "name": "python",
   "nbconvert_exporter": "python",
   "pygments_lexer": "ipython3",
   "version": "3.9.6"
  }
 },
 "nbformat": 4,
 "nbformat_minor": 2
}
